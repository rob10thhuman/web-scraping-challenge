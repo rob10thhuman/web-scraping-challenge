{
 "cells": [
  {
   "cell_type": "code",
   "execution_count": 1,
   "metadata": {},
   "outputs": [],
   "source": [
    "from selenium import webdriver\n",
    "from selenium.webdriver.common.keys import Keys\n",
    "from webdriver_manager.chrome import ChromeDriverManager\n",
    "import pandas as pd\n",
    "import json"
   ]
  },
  {
   "cell_type": "code",
   "execution_count": 2,
   "metadata": {},
   "outputs": [
    {
     "name": "stderr",
     "output_type": "stream",
     "text": [
      "\n",
      "\n",
      "====== WebDriver manager ======\n",
      "Current google-chrome version is 91.0.4472\n",
      "Get LATEST driver version for 91.0.4472\n",
      "Driver [/Users/robthompson/.wdm/drivers/chromedriver/mac64/91.0.4472.101/chromedriver] found in cache\n"
     ]
    }
   ],
   "source": [
    "driver = webdriver.Chrome(ChromeDriverManager().install())\n",
    "driver.get('https://mars.nasa.gov/news/')\n",
    "news_title = driver.find_elements_by_class_name('list_text')\n",
    "news_p = driver.find_elements_by_class_name('article_teaser_body')\n",
    "\n",
    "news_list = []\n",
    "news_p_list = []\n",
    "\n",
    "for x in news_title:\n",
    "\tnews_list.append(x.get_attribute(\"textContent\"))\n",
    "\n",
    "for y in news_p:\n",
    "\tnews_p_list.append(y.get_attribute(\"textContent\"))\n",
    "\n",
    "driver.quit()"
   ]
  },
  {
   "cell_type": "code",
   "execution_count": 3,
   "metadata": {},
   "outputs": [
    {
     "data": {
      "text/plain": [
       "[\"June 25, 2021Watch (and Hear) How NASA's Perseverance Rover Took Its First SelfieThe historic image of the rover beside the Mars Helicopter proved to be one of the most complex rover selfies ever taken. Video, with bonus audio, sheds light on the process. \",\n",
       " \"June 24, 2021Study Looks More Closely at Mars' Underground Water SignalsA new paper finds more radar signals suggesting the presence of subsurface ‘lakes,’ but many are in areas too cold for water to remain liquid.\",\n",
       " \"June 22, 2021My Favorite Martian Image: Jezero Crater's 'Delta Scarp'A Perseverance rover scientist’s favorite shot from the young Mars mission provides a new angle on an old and intriguing surface feature.\",\n",
       " \"June 15, 2021NASA's Ingenuity Mission Honored by the Space FoundationThe mission picked up the 2021 John L. “Jack” Swigert, Jr., Award for Space Exploration for its history-making achievements.\",\n",
       " \"June  9, 2021NASA's Perseverance Rover Begins Its First Science Campaign on MarsThe six-wheeled scientist is heading south to explore Jezero Crater’s lakebed in search of signs of ancient microbial life.\",\n",
       " \"June  3, 2021NASA's InSight Mars Lander Gets a Power BoostThe spacecraft successfully cleared some dust off its solar panels, helping to raise its energy and delay when it will need to switch off its science instruments.\",\n",
       " \"May 28, 2021NASA's Curiosity Rover Captures Shining Clouds on MarsThe science team is studying the clouds, which arrived earlier and formed higher than expected, to learn more about the Red Planet. \",\n",
       " 'May 25, 2021Life Goals: NASA Software Unlocks Martian Rover ProductivityProductivity pundits know lots of tricks to make the most of your day, so you can schedule enough time for important tasks while guarding against overload.',\n",
       " \"May 20, 2021Salts Could Be Important Piece of Martian Organic PuzzleA NASA team has found that organic, or carbon-containing, salts are likely present on Mars, with implications for the Red Planet's past habitability.\",\n",
       " \"May 12, 2021Seeing NASA's Ingenuity Mars Helicopter Fly in 3DA new video of the helicopter’s third flight gives viewers the sensation of standing on the Red Planet and seeing the action firsthand.\",\n",
       " \"May 11, 2021Perseverance's Robotic Arm Starts Conducting ScienceNASA’s newest Mars rover is beginning to study the floor of an ancient crater that once held a lake.\",\n",
       " \"May  7, 2021NASA's Ingenuity Mars Helicopter Completes First One-Way Trip  The Red Planet rotorcraft headed south in support of furthering research into the potential use of aerial scouts on Mars in the future.\",\n",
       " \"May  7, 2021NASA's Perseverance Captures Video, Audio of Fourth Ingenuity FlightSounds of the Mars Helicopter’s whirring rotors add another new dimension to the historic project.\",\n",
       " \"April 30, 2021NASA's Ingenuity Helicopter to Begin New Demonstration PhaseThe Red Planet rotorcraft will shift focus from proving flight is possible on Mars to demonstrating flight operations that future aerial craft could utilize.\",\n",
       " 'April 29, 2021NASA Sets Briefing to Discuss Ingenuity Mars Helicopter Next StepsWith three successful flights in the logbook, Ingenuity has demonstrated it is ready for more.\\n\\n',\n",
       " 'April 28, 2021With Goals Met, NASA to Push Envelope With Ingenuity Mars HelicopterWith three successful flights in the logbook, Ingenuity has demonstrated it is ready for more.',\n",
       " \"April 25, 2021NASA's Ingenuity Mars Helicopter Flies Faster, Farther on Third FlightThe craft’s April 25 flight was conducted at speeds and distances beyond what had ever been previously demonstrated, even in testing on Earth.\",\n",
       " \"April 22, 2021NASA's Ingenuity Mars Helicopter Logs Second Successful FlightThe small rotorcraft’s horizons were expanded on its second flight. \",\n",
       " \"April 21, 2021NASA's Perseverance Mars Rover Extracts First Oxygen From Red PlanetThe milestone, which the MOXIE instrument achieved by converting carbon dioxide into oxygen, points the way to future human exploration of the Red Planet. \",\n",
       " \"April 19, 2021NASA's Ingenuity Mars Helicopter Succeeds in Historic First FlightThe small rotorcraft made history, hovering above Jezero Crater, demonstrating that powered, controlled flight on another planet is possible.\",\n",
       " 'April 17, 2021NASA to Attempt First Controlled Flight on Mars As Soon As MondayA livestream will begin at 3:15 a.m. PDT that morning as the helicopter team prepares to receive the data downlink at NASA’s Jet Propulsion Laboratory.',\n",
       " \"April  9, 2021NASA's Mars Helicopter to Make First Flight AttemptThe small rotorcraft’s “Wright brothers moment” is two Mars days away.\",\n",
       " 'April  8, 2021Webinars--Taking Flight: How Girls Can Grow up to Be Engineers Do you like solving problems, working with other people, and making a difference? Consider a career in engineering!',\n",
       " \"April  7, 2021Say Cheese on Mars: Perseverance's Selfie With IngenuityNASA’s newest Mars rover used a camera on the end of its robotic arm to snap this shot of itself with the Ingenuity helicopter nearby.\",\n",
       " \"April  7, 2021NASA's Odyssey Orbiter Marks 20 Historic Years of Mapping Mars For two decades, the longest-lived spacecraft at the Red Planet has helped locate water ice, assess landing sites, and study the planet’s mysterious moons.\\n\",\n",
       " 'April  6, 2021NASA Invites Public to Take Flight With Ingenuity Mars Helicopter The helicopter is scheduled to lift off close to the end of the day on April 11.',\n",
       " \"April  6, 2021NASA's First Weather Report From Jezero Crater on MarsPerseverance’s MEDA will help us understand how to prepare astronauts for a future on the Red Planet.\",\n",
       " \"April  5, 2021NASA's Curiosity Team Names Martian Hill That Serves as Mission ‘Gateway'The name honors recently deceased mission scientist Rafael Navarro-González, who helped lead the team that identified ancient organic compounds on Mars\",\n",
       " \"April  5, 2021NASA's Mars Helicopter Survives First Cold Martian Night on Its OwnNASA’s Ingenuity helicopter can be seen on Mars as viewed by the Perseverance rover’s rear Hazard Camera on April 4, 2021, the 44th Martian day, or sol of the mission.\",\n",
       " \"April  1, 2021NASA's InSight Detects Two Sizable Quakes on MarsThe magnitude 3.3 and 3.1 temblors originated in a region called Cerberus Fossae, further supporting the idea that this location is seismically active.\",\n",
       " 'April  1, 2021Sensors Collect Crucial Data on Mars Landings With Arrival of Perseverance MEDLI2 was one of the crucial technologies onboard the rover’s protective aeroshell that helped document the entry, descent, and landing of the spacecraft. ',\n",
       " \"March 30, 2021NASA's Curiosity Mars Rover Takes Selfie With 'Mont Mercou'The rover also snapped a pair of panoramas to create a 3D view of the stark cliff face featured in the selfie.\",\n",
       " 'March 23, 2021NASA Ingenuity Mars Helicopter Prepares for First FlightNow uncocooned from its protective carbon-fiber shield, the helicopter is being readied for its next steps.  ',\n",
       " 'March 17, 2021Another First: Perseverance Captures the Sounds of Driving on MarsNASA’s newest rover recorded audio of itself crunching over the surface of the Red Planet, adding a whole new dimension to Mars exploration.',\n",
       " 'March 17, 2021NASA to Host Briefing to Preview First Mars Helicopter FlightsMembers of the projects will lay out the steps necessary before the helicopter attempts its historic test flights. ',\n",
       " \"March 16, 2021New Study Challenges Long-Held Theory of Fate of Mars' WaterThe new science results indicate that a large quantity of the Red Planet’s water is trapped in its crust rather than having escaped into space.\",\n",
       " \"March 11, 2021NASA's Perseverance Mars Rover Mission Honors Navajo LanguageWorking with the Navajo Nation, the rover team has named features on Mars with words from the Navajo language.\",\n",
       " \"March 10, 2021Perseverance Rover's SuperCam Science Instrument Delivers First ResultsData from the powerful science tool includes sounds of its laser zapping a rock in order to test what it’s made of.\",\n",
       " \"March  5, 2021NASA's Perseverance Drives on Mars' Terrain for First TimeThe first trek of the agency’s largest, most advanced rover yet on the Red Planet marks a major milestone before science operations get under way.\",\n",
       " 'March  5, 2021Media Telecon Materials - March 5, 2021Mission team members are participating in a virtual teleconference to discuss milestones achieved so far since the Feb. 18 landing and those to come.']"
      ]
     },
     "execution_count": 3,
     "metadata": {},
     "output_type": "execute_result"
    }
   ],
   "source": [
    "news_list"
   ]
  },
  {
   "cell_type": "code",
   "execution_count": 4,
   "metadata": {},
   "outputs": [
    {
     "name": "stderr",
     "output_type": "stream",
     "text": [
      "\n",
      "\n",
      "====== WebDriver manager ======\n",
      "Current google-chrome version is 91.0.4472\n",
      "Get LATEST driver version for 91.0.4472\n",
      "Driver [/Users/robthompson/.wdm/drivers/chromedriver/mac64/91.0.4472.101/chromedriver] found in cache\n"
     ]
    }
   ],
   "source": [
    "driver2 = webdriver.Chrome(ChromeDriverManager().install())\n",
    "driver2.get('https://data-class-jpl-space.s3.amazonaws.com/JPL_Space/index.html')\n",
    "featured_image_url = driver2.find_elements_by_tag_name('img')\n",
    "images = []\n",
    "for image in featured_image_url:\n",
    "    images.append(image.get_attribute('src'))\n",
    "driver2.quit()"
   ]
  },
  {
   "cell_type": "code",
   "execution_count": 5,
   "metadata": {},
   "outputs": [
    {
     "data": {
      "text/plain": [
       "['https://data-class-jpl-space.s3.amazonaws.com/JPL_Space/image/nasa.png',\n",
       " 'https://data-class-jpl-space.s3.amazonaws.com/JPL_Space/image/featured/mars2.jpg',\n",
       " 'https://data-class-jpl-space.s3.amazonaws.com/JPL_Space/image/mars/Icaria%20Fossae7.jpg',\n",
       " 'https://data-class-jpl-space.s3.amazonaws.com/JPL_Space/image/mars/Proctor%20Crater%20Dunes%207.jpg',\n",
       " 'https://data-class-jpl-space.s3.amazonaws.com/JPL_Space/image/mars/Icaria%20Fossae7.jpg',\n",
       " 'https://data-class-jpl-space.s3.amazonaws.com/JPL_Space/image/mars/Proctor%20Crater%20Dunes%207.jpg',\n",
       " 'https://data-class-jpl-space.s3.amazonaws.com/JPL_Space/image/mars/Proctor%20Crater%20Dunes%207.jpg',\n",
       " 'https://data-class-jpl-space.s3.amazonaws.com/JPL_Space/image/mars/Icaria%20Fossae7.jpg',\n",
       " 'https://data-class-jpl-space.s3.amazonaws.com/JPL_Space/image/mars/Icaria%20Fossae.jpg',\n",
       " 'https://data-class-jpl-space.s3.amazonaws.com/JPL_Space/image/mars/Ariadnes%20Colles4.jpg',\n",
       " 'https://data-class-jpl-space.s3.amazonaws.com/JPL_Space/image/mars/Niger%20Vallis.jpg',\n",
       " 'https://data-class-jpl-space.s3.amazonaws.com/JPL_Space/image/mars/Proctor%20Crater%20Dunes.jpg',\n",
       " 'https://data-class-jpl-space.s3.amazonaws.com/JPL_Space/image/mars/Niger%20Vallis.jpg',\n",
       " 'https://data-class-jpl-space.s3.amazonaws.com/JPL_Space/image/mars/Daedalia%20Planum.jpg',\n",
       " 'https://data-class-jpl-space.s3.amazonaws.com/JPL_Space/image/mars/Sirenum%20Fossae.jpg',\n",
       " 'https://data-class-jpl-space.s3.amazonaws.com/JPL_Space/image/mars/Ariadnes%20Colles4.jpg',\n",
       " 'https://data-class-jpl-space.s3.amazonaws.com/JPL_Space/image/mars/South%20Polar%20Cap.jpg',\n",
       " 'https://data-class-jpl-space.s3.amazonaws.com/JPL_Space/image/mars/Daedalia%20Planum.jpg',\n",
       " 'https://data-class-jpl-space.s3.amazonaws.com/JPL_Space/image/mars/Ariadnes%20Colles3.jpg',\n",
       " 'https://data-class-jpl-space.s3.amazonaws.com/JPL_Space/image/mars/Atlantis%20Chaos.jpg',\n",
       " 'https://data-class-jpl-space.s3.amazonaws.com/JPL_Space/image/mars/Daedalia%20Planum.jpg',\n",
       " 'https://data-class-jpl-space.s3.amazonaws.com/JPL_Space/image/mars/Icaria%20Fossae.jpg',\n",
       " 'https://data-class-jpl-space.s3.amazonaws.com/JPL_Space/image/mars/Niger%20Vallis.jpg',\n",
       " 'https://data-class-jpl-space.s3.amazonaws.com/JPL_Space/image/mars/Proctor%20Crater%20Dunes.jpg',\n",
       " 'https://data-class-jpl-space.s3.amazonaws.com/JPL_Space/image/mars/Reull%20Vallis.jpg',\n",
       " 'https://data-class-jpl-space.s3.amazonaws.com/JPL_Space/image/mars/Ariadnes%20Colles3.jpg',\n",
       " 'https://data-class-jpl-space.s3.amazonaws.com/JPL_Space/image/mars/Sirenum%20Fossae.jpg',\n",
       " 'https://data-class-jpl-space.s3.amazonaws.com/JPL_Space/image/mars/South%20Polar%20Cap.jpg',\n",
       " 'https://data-class-jpl-space.s3.amazonaws.com/JPL_Space/image/mars/Niger%20Vallis.jpg',\n",
       " 'https://data-class-jpl-space.s3.amazonaws.com/JPL_Space/image/mars/Daedalia%20Planum.jpg',\n",
       " 'https://data-class-jpl-space.s3.amazonaws.com/JPL_Space/image/mars/Icaria%20Fossae.jpg',\n",
       " 'https://data-class-jpl-space.s3.amazonaws.com/JPL_Space/image/mars/Ariadnes%20Colles4.jpg',\n",
       " 'https://data-class-jpl-space.s3.amazonaws.com/JPL_Space/image/mars/South%20Polar%20Cap.jpg',\n",
       " 'https://data-class-jpl-space.s3.amazonaws.com/JPL_Space/image/mars/Daedalia%20Planum.jpg',\n",
       " '',\n",
       " 'https://www.jpl.nasa.gov/assets/images/content/tmp/images/jpl_photojournal(3x1).jpg',\n",
       " 'https://www.jpl.nasa.gov/assets/images/content/tmp/images/nasa_images(3x1).jpg',\n",
       " 'https://imagecache.jpl.nasa.gov/images/640x350/C1-PIA24304---CatScanMars-16-640x350.gif',\n",
       " 'https://imagecache.jpl.nasa.gov/images/640x350/PIA23491-16-640x350.jpg',\n",
       " 'https://imagecache.jpl.nasa.gov/images/640x350/C1-PIA23180-16-640x350.gif']"
      ]
     },
     "execution_count": 5,
     "metadata": {},
     "output_type": "execute_result"
    }
   ],
   "source": [
    "images"
   ]
  },
  {
   "cell_type": "code",
   "execution_count": 6,
   "metadata": {},
   "outputs": [
    {
     "data": {
      "text/plain": [
       "['https://data-class-jpl-space.s3.amazonaws.com/JPL_Space/image/featured/mars2.jpg']"
      ]
     },
     "execution_count": 6,
     "metadata": {},
     "output_type": "execute_result"
    }
   ],
   "source": [
    "matches = [match for match in images if 'featured' in match]\n",
    "matches"
   ]
  },
  {
   "cell_type": "code",
   "execution_count": 7,
   "metadata": {},
   "outputs": [
    {
     "name": "stderr",
     "output_type": "stream",
     "text": [
      "\n",
      "\n",
      "====== WebDriver manager ======\n",
      "Current google-chrome version is 91.0.4472\n",
      "Get LATEST driver version for 91.0.4472\n",
      "Driver [/Users/robthompson/.wdm/drivers/chromedriver/mac64/91.0.4472.101/chromedriver] found in cache\n"
     ]
    }
   ],
   "source": [
    "driver_mars_facts = webdriver.Chrome(ChromeDriverManager().install())\n",
    "driver_mars_facts.get('https://space-facts.com/mars')\n",
    "mars_facts = driver_mars_facts.find_elements_by_class_name('column-1')\n",
    "mars_facts2 = driver_mars_facts.find_elements_by_class_name('column-2')\n",
    "facts = []\n",
    "facts2 = []\n",
    "for x in mars_facts:\n",
    "    facts.append(x.text)\n",
    "for x in mars_facts2:\n",
    "    facts2.append(x.text)\n",
    "driver_mars_facts.quit()"
   ]
  },
  {
   "cell_type": "code",
   "execution_count": 8,
   "metadata": {},
   "outputs": [
    {
     "data": {
      "text/plain": [
       "['',\n",
       " '',\n",
       " '',\n",
       " '',\n",
       " '',\n",
       " '',\n",
       " '',\n",
       " '',\n",
       " '',\n",
       " 'Mars - Earth Comparison',\n",
       " 'Diameter:',\n",
       " 'Mass:',\n",
       " 'Moons:',\n",
       " 'Distance from Sun:',\n",
       " 'Length of Year:',\n",
       " 'Temperature:',\n",
       " 'Equatorial Diameter:',\n",
       " 'Polar Diameter:',\n",
       " 'Mass:',\n",
       " 'Moons:',\n",
       " 'Orbit Distance:',\n",
       " 'Orbit Period:',\n",
       " 'Surface Temperature:',\n",
       " 'First Record:',\n",
       " 'Recorded By:']"
      ]
     },
     "execution_count": 8,
     "metadata": {},
     "output_type": "execute_result"
    }
   ],
   "source": [
    "facts"
   ]
  },
  {
   "cell_type": "code",
   "execution_count": 9,
   "metadata": {},
   "outputs": [
    {
     "data": {
      "text/plain": [
       "['',\n",
       " '',\n",
       " '',\n",
       " '',\n",
       " '',\n",
       " '',\n",
       " '',\n",
       " '',\n",
       " '',\n",
       " 'Mars',\n",
       " '6,779 km',\n",
       " '6.39 × 10^23 kg',\n",
       " '2',\n",
       " '227,943,824 km',\n",
       " '687 Earth days',\n",
       " '-87 to -5 °C',\n",
       " '6,792 km',\n",
       " '6,752 km',\n",
       " '6.39 × 10^23 kg\\n(0.11 Earths)',\n",
       " '2 (Phobos & Deimos)',\n",
       " '227,943,824 km\\n(1.38 AU)',\n",
       " '687 days (1.9 years)',\n",
       " '-87 to -5 °C',\n",
       " '2nd millennium BC',\n",
       " 'Egyptian astronomers']"
      ]
     },
     "execution_count": 9,
     "metadata": {},
     "output_type": "execute_result"
    }
   ],
   "source": [
    "facts2"
   ]
  },
  {
   "cell_type": "code",
   "execution_count": 10,
   "metadata": {},
   "outputs": [],
   "source": [
    "marsFacts = pd.DataFrame(facts)"
   ]
  },
  {
   "cell_type": "code",
   "execution_count": 11,
   "metadata": {},
   "outputs": [],
   "source": [
    "marsFacts[1] = pd.DataFrame(facts2)"
   ]
  },
  {
   "cell_type": "code",
   "execution_count": 12,
   "metadata": {},
   "outputs": [],
   "source": [
    "marsFacts = marsFacts.drop([0, 1, 2, 3, 4, 5, 6, 7, 8])"
   ]
  },
  {
   "cell_type": "code",
   "execution_count": 13,
   "metadata": {},
   "outputs": [
    {
     "data": {
      "text/html": [
       "<div>\n",
       "<style scoped>\n",
       "    .dataframe tbody tr th:only-of-type {\n",
       "        vertical-align: middle;\n",
       "    }\n",
       "\n",
       "    .dataframe tbody tr th {\n",
       "        vertical-align: top;\n",
       "    }\n",
       "\n",
       "    .dataframe thead th {\n",
       "        text-align: right;\n",
       "    }\n",
       "</style>\n",
       "<table border=\"1\" class=\"dataframe\">\n",
       "  <thead>\n",
       "    <tr style=\"text-align: right;\">\n",
       "      <th></th>\n",
       "      <th>0</th>\n",
       "      <th>1</th>\n",
       "    </tr>\n",
       "  </thead>\n",
       "  <tbody>\n",
       "    <tr>\n",
       "      <th>9</th>\n",
       "      <td>Mars - Earth Comparison</td>\n",
       "      <td>Mars</td>\n",
       "    </tr>\n",
       "    <tr>\n",
       "      <th>10</th>\n",
       "      <td>Diameter:</td>\n",
       "      <td>6,779 km</td>\n",
       "    </tr>\n",
       "    <tr>\n",
       "      <th>11</th>\n",
       "      <td>Mass:</td>\n",
       "      <td>6.39 × 10^23 kg</td>\n",
       "    </tr>\n",
       "    <tr>\n",
       "      <th>12</th>\n",
       "      <td>Moons:</td>\n",
       "      <td>2</td>\n",
       "    </tr>\n",
       "    <tr>\n",
       "      <th>13</th>\n",
       "      <td>Distance from Sun:</td>\n",
       "      <td>227,943,824 km</td>\n",
       "    </tr>\n",
       "    <tr>\n",
       "      <th>14</th>\n",
       "      <td>Length of Year:</td>\n",
       "      <td>687 Earth days</td>\n",
       "    </tr>\n",
       "    <tr>\n",
       "      <th>15</th>\n",
       "      <td>Temperature:</td>\n",
       "      <td>-87 to -5 °C</td>\n",
       "    </tr>\n",
       "    <tr>\n",
       "      <th>16</th>\n",
       "      <td>Equatorial Diameter:</td>\n",
       "      <td>6,792 km</td>\n",
       "    </tr>\n",
       "    <tr>\n",
       "      <th>17</th>\n",
       "      <td>Polar Diameter:</td>\n",
       "      <td>6,752 km</td>\n",
       "    </tr>\n",
       "    <tr>\n",
       "      <th>18</th>\n",
       "      <td>Mass:</td>\n",
       "      <td>6.39 × 10^23 kg\\n(0.11 Earths)</td>\n",
       "    </tr>\n",
       "    <tr>\n",
       "      <th>19</th>\n",
       "      <td>Moons:</td>\n",
       "      <td>2 (Phobos &amp; Deimos)</td>\n",
       "    </tr>\n",
       "    <tr>\n",
       "      <th>20</th>\n",
       "      <td>Orbit Distance:</td>\n",
       "      <td>227,943,824 km\\n(1.38 AU)</td>\n",
       "    </tr>\n",
       "    <tr>\n",
       "      <th>21</th>\n",
       "      <td>Orbit Period:</td>\n",
       "      <td>687 days (1.9 years)</td>\n",
       "    </tr>\n",
       "    <tr>\n",
       "      <th>22</th>\n",
       "      <td>Surface Temperature:</td>\n",
       "      <td>-87 to -5 °C</td>\n",
       "    </tr>\n",
       "    <tr>\n",
       "      <th>23</th>\n",
       "      <td>First Record:</td>\n",
       "      <td>2nd millennium BC</td>\n",
       "    </tr>\n",
       "    <tr>\n",
       "      <th>24</th>\n",
       "      <td>Recorded By:</td>\n",
       "      <td>Egyptian astronomers</td>\n",
       "    </tr>\n",
       "  </tbody>\n",
       "</table>\n",
       "</div>"
      ],
      "text/plain": [
       "                          0                               1\n",
       "9   Mars - Earth Comparison                            Mars\n",
       "10                Diameter:                        6,779 km\n",
       "11                    Mass:                 6.39 × 10^23 kg\n",
       "12                   Moons:                               2\n",
       "13       Distance from Sun:                  227,943,824 km\n",
       "14          Length of Year:                  687 Earth days\n",
       "15             Temperature:                    -87 to -5 °C\n",
       "16     Equatorial Diameter:                        6,792 km\n",
       "17          Polar Diameter:                        6,752 km\n",
       "18                    Mass:  6.39 × 10^23 kg\\n(0.11 Earths)\n",
       "19                   Moons:             2 (Phobos & Deimos)\n",
       "20          Orbit Distance:       227,943,824 km\\n(1.38 AU)\n",
       "21            Orbit Period:            687 days (1.9 years)\n",
       "22     Surface Temperature:                    -87 to -5 °C\n",
       "23            First Record:               2nd millennium BC\n",
       "24             Recorded By:            Egyptian astronomers"
      ]
     },
     "execution_count": 13,
     "metadata": {},
     "output_type": "execute_result"
    }
   ],
   "source": [
    "marsFacts"
   ]
  },
  {
   "cell_type": "code",
   "execution_count": 33,
   "metadata": {},
   "outputs": [],
   "source": [
    "marsTable = marsFacts.to_html()\n",
    "marsTable = marsTable.replace('\\n','')"
   ]
  },
  {
   "cell_type": "code",
   "execution_count": 15,
   "metadata": {},
   "outputs": [
    {
     "name": "stderr",
     "output_type": "stream",
     "text": [
      "\n",
      "\n",
      "====== WebDriver manager ======\n",
      "Current google-chrome version is 91.0.4472\n",
      "Get LATEST driver version for 91.0.4472\n",
      "Driver [/Users/robthompson/.wdm/drivers/chromedriver/mac64/91.0.4472.101/chromedriver] found in cache\n"
     ]
    }
   ],
   "source": [
    "import time \n",
    "driver_mars_hemi = webdriver.Chrome(ChromeDriverManager().install())\n",
    "driver_mars_hemi.get('https://astrogeology.usgs.gov/search/results?q=hemisphere+enhanced&k1=target&v1=Mars')\n",
    "names = []\n",
    "urls = []\n",
    "\n",
    "for i in range(4):\n",
    "    time.sleep(3)\n",
    "    hemisphere = driver_mars_hemi.find_elements_by_tag_name('h3')\n",
    "    hemisphere[i].click()\n",
    "    time.sleep(5)\n",
    "    hemi_title = driver_mars_hemi.find_element_by_tag_name('h2')\n",
    "    hemi_url = driver_mars_hemi.find_element_by_class_name('wide-image')\n",
    "    names.append(hemi_title.text)\n",
    "    urls.append(hemi_url.get_attribute('src'))\n",
    "    driver_mars_hemi.back()\n",
    "    time.sleep(3)\n",
    "\n",
    "driver_mars_hemi.quit()"
   ]
  },
  {
   "cell_type": "code",
   "execution_count": 16,
   "metadata": {},
   "outputs": [
    {
     "data": {
      "text/plain": [
       "['Cerberus Hemisphere Enhanced',\n",
       " 'Schiaparelli Hemisphere Enhanced',\n",
       " 'Syrtis Major Hemisphere Enhanced',\n",
       " 'Valles Marineris Hemisphere Enhanced']"
      ]
     },
     "execution_count": 16,
     "metadata": {},
     "output_type": "execute_result"
    }
   ],
   "source": [
    "names"
   ]
  },
  {
   "cell_type": "code",
   "execution_count": 17,
   "metadata": {},
   "outputs": [
    {
     "data": {
      "text/plain": [
       "['https://astrogeology.usgs.gov/cache/images/f5e372a36edfa389625da6d0cc25d905_cerberus_enhanced.tif_full.jpg',\n",
       " 'https://astrogeology.usgs.gov/cache/images/3778f7b43bbbc89d6e3cfabb3613ba93_schiaparelli_enhanced.tif_full.jpg',\n",
       " 'https://astrogeology.usgs.gov/cache/images/555e6403a6ddd7ba16ddb0e471cadcf7_syrtis_major_enhanced.tif_full.jpg',\n",
       " 'https://astrogeology.usgs.gov/cache/images/b3c7c6c9138f57b4756be9b9c43e3a48_valles_marineris_enhanced.tif_full.jpg']"
      ]
     },
     "execution_count": 17,
     "metadata": {},
     "output_type": "execute_result"
    }
   ],
   "source": [
    "urls"
   ]
  },
  {
   "cell_type": "code",
   "execution_count": 18,
   "metadata": {},
   "outputs": [],
   "source": [
    "hemisphere_img_urls = {names[i]: urls[i] for i in range(len(names))}\n",
    "hemisphere_img_urls = [{'title':i, 'img_url':j} for i, j in hemisphere_img_urls.items()]"
   ]
  },
  {
   "cell_type": "code",
   "execution_count": 19,
   "metadata": {},
   "outputs": [
    {
     "data": {
      "text/plain": [
       "[{'title': 'Cerberus Hemisphere Enhanced',\n",
       "  'img_url': 'https://astrogeology.usgs.gov/cache/images/f5e372a36edfa389625da6d0cc25d905_cerberus_enhanced.tif_full.jpg'},\n",
       " {'title': 'Schiaparelli Hemisphere Enhanced',\n",
       "  'img_url': 'https://astrogeology.usgs.gov/cache/images/3778f7b43bbbc89d6e3cfabb3613ba93_schiaparelli_enhanced.tif_full.jpg'},\n",
       " {'title': 'Syrtis Major Hemisphere Enhanced',\n",
       "  'img_url': 'https://astrogeology.usgs.gov/cache/images/555e6403a6ddd7ba16ddb0e471cadcf7_syrtis_major_enhanced.tif_full.jpg'},\n",
       " {'title': 'Valles Marineris Hemisphere Enhanced',\n",
       "  'img_url': 'https://astrogeology.usgs.gov/cache/images/b3c7c6c9138f57b4756be9b9c43e3a48_valles_marineris_enhanced.tif_full.jpg'}]"
      ]
     },
     "execution_count": 19,
     "metadata": {},
     "output_type": "execute_result"
    }
   ],
   "source": [
    "hemisphere_img_urls"
   ]
  },
  {
   "cell_type": "code",
   "execution_count": 34,
   "metadata": {},
   "outputs": [],
   "source": [
    "mars_data = ({\n",
    "   \"featured_image_url\": matches,\n",
    "   \"table\": marsTable,\n",
    "   \"hemispheres\": hemisphere_img_urls,\n",
    "})"
   ]
  },
  {
   "cell_type": "code",
   "execution_count": 35,
   "metadata": {},
   "outputs": [
    {
     "data": {
      "text/plain": [
       "{'featured_image_url': ['https://data-class-jpl-space.s3.amazonaws.com/JPL_Space/image/featured/mars2.jpg'],\n",
       " 'table': '<table border=\"1\" class=\"dataframe\">  <thead>    <tr style=\"text-align: right;\">      <th></th>      <th>0</th>      <th>1</th>    </tr>  </thead>  <tbody>    <tr>      <th>9</th>      <td>Mars - Earth Comparison</td>      <td>Mars</td>    </tr>    <tr>      <th>10</th>      <td>Diameter:</td>      <td>6,779 km</td>    </tr>    <tr>      <th>11</th>      <td>Mass:</td>      <td>6.39 × 10^23 kg</td>    </tr>    <tr>      <th>12</th>      <td>Moons:</td>      <td>2</td>    </tr>    <tr>      <th>13</th>      <td>Distance from Sun:</td>      <td>227,943,824 km</td>    </tr>    <tr>      <th>14</th>      <td>Length of Year:</td>      <td>687 Earth days</td>    </tr>    <tr>      <th>15</th>      <td>Temperature:</td>      <td>-87 to -5 °C</td>    </tr>    <tr>      <th>16</th>      <td>Equatorial Diameter:</td>      <td>6,792 km</td>    </tr>    <tr>      <th>17</th>      <td>Polar Diameter:</td>      <td>6,752 km</td>    </tr>    <tr>      <th>18</th>      <td>Mass:</td>      <td>6.39 × 10^23 kg\\\\n(0.11 Earths)</td>    </tr>    <tr>      <th>19</th>      <td>Moons:</td>      <td>2 (Phobos &amp; Deimos)</td>    </tr>    <tr>      <th>20</th>      <td>Orbit Distance:</td>      <td>227,943,824 km\\\\n(1.38 AU)</td>    </tr>    <tr>      <th>21</th>      <td>Orbit Period:</td>      <td>687 days (1.9 years)</td>    </tr>    <tr>      <th>22</th>      <td>Surface Temperature:</td>      <td>-87 to -5 °C</td>    </tr>    <tr>      <th>23</th>      <td>First Record:</td>      <td>2nd millennium BC</td>    </tr>    <tr>      <th>24</th>      <td>Recorded By:</td>      <td>Egyptian astronomers</td>    </tr>  </tbody></table>',\n",
       " 'hemispheres': [{'title': 'Cerberus Hemisphere Enhanced',\n",
       "   'img_url': 'https://astrogeology.usgs.gov/cache/images/f5e372a36edfa389625da6d0cc25d905_cerberus_enhanced.tif_full.jpg'},\n",
       "  {'title': 'Schiaparelli Hemisphere Enhanced',\n",
       "   'img_url': 'https://astrogeology.usgs.gov/cache/images/3778f7b43bbbc89d6e3cfabb3613ba93_schiaparelli_enhanced.tif_full.jpg'},\n",
       "  {'title': 'Syrtis Major Hemisphere Enhanced',\n",
       "   'img_url': 'https://astrogeology.usgs.gov/cache/images/555e6403a6ddd7ba16ddb0e471cadcf7_syrtis_major_enhanced.tif_full.jpg'},\n",
       "  {'title': 'Valles Marineris Hemisphere Enhanced',\n",
       "   'img_url': 'https://astrogeology.usgs.gov/cache/images/b3c7c6c9138f57b4756be9b9c43e3a48_valles_marineris_enhanced.tif_full.jpg'}]}"
      ]
     },
     "execution_count": 35,
     "metadata": {},
     "output_type": "execute_result"
    }
   ],
   "source": [
    "mars_data"
   ]
  },
  {
   "cell_type": "code",
   "execution_count": null,
   "metadata": {},
   "outputs": [],
   "source": []
  }
 ],
 "metadata": {
  "kernelspec": {
   "display_name": "Python 3",
   "language": "python",
   "name": "python3"
  },
  "language_info": {
   "codemirror_mode": {
    "name": "ipython",
    "version": 3
   },
   "file_extension": ".py",
   "mimetype": "text/x-python",
   "name": "python",
   "nbconvert_exporter": "python",
   "pygments_lexer": "ipython3",
   "version": "3.7.6"
  }
 },
 "nbformat": 4,
 "nbformat_minor": 4
}
